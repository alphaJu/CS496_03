{
 "cells": [
  {
   "cell_type": "code",
   "execution_count": 1,
   "metadata": {},
   "outputs": [],
   "source": [
    "from urllib.request import urlopen"
   ]
  },
  {
   "cell_type": "code",
   "execution_count": 2,
   "metadata": {},
   "outputs": [],
   "source": [
    "from bs4 import BeautifulSoup"
   ]
  },
  {
   "cell_type": "code",
   "execution_count": 8,
   "metadata": {},
   "outputs": [],
   "source": [
    "html = urlopen(\"http://www.alba.co.kr/job/annex/BrandList.asp?schtext=0602D007&categ=%C4%BF%C7%C7%C0%FC%B9%AE%C1%A1&brandname=%BF%A3%C1%A6%B8%AE%B3%CA%BD%BA\")"
   ]
  },
  {
   "cell_type": "code",
   "execution_count": 9,
   "metadata": {},
   "outputs": [],
   "source": [
    "soup = BeautifulSoup(html, 'html.parser')"
   ]
  },
  {
   "cell_type": "code",
   "execution_count": 15,
   "metadata": {},
   "outputs": [],
   "source": [
    "nameList = soup.find_all('span', {'class':'company'})"
   ]
  },
  {
   "cell_type": "code",
   "execution_count": 16,
   "metadata": {},
   "outputs": [
    {
     "name": "stdout",
     "output_type": "stream",
     "text": [
      " 엔제리너스 잠실롯데월드몰F1점\n",
      " 엔제리너스 부산백양로D/I점\n",
      " 엔제리너스 부산백양로D/I점\n",
      " 엔제리너스 경주법원점\n",
      " 엔제리너스 진해자은점\n",
      " 엔제리너스 롯데몰군산\n",
      " 엔제리너스 롯데몰군산\n",
      " 엔제리너스 부산백양로D/I점\n",
      " 엔제리너스 롯데몰김포공항2호점\n",
      " 엔제리너스 롯데몰김포공항2호점\n",
      " 엔제리너스 숙대입구점\n",
      " 엔제리너스 숙대입구점\n",
      " 엔제리너스 강동경희대병원점\n",
      " 엔제리너스 분당서현점\n",
      " 엔제리너스 분당서현점\n",
      " 엔제리너스 경주D/T점\n",
      " 엔제리너스 부산백양로D/I점\n",
      " 엔제리너스중동점\n",
      " 엔제리너스 명동시티호텔점\n",
      " 엔제리너스 롯데몰군산\n",
      " 엔제리너스 롯데몰군산\n",
      " 엔제리너스 석촌호수D/I점\n",
      " 엔제리너스 석촌호수D/I점\n",
      " 엔제리너스 평촌범계점\n",
      " 엔제리너스 불광역점\n",
      " 엔제리너스 부산백양로D/I점\n",
      " 엔제리너스 평촌범계점\n",
      " 구미오태점 엔제리너스\n",
      " 롯데지알에스(주)\n",
      " 엔젤리너스\n"
     ]
    }
   ],
   "source": [
    "for name in nameList:\n",
    "    print(name.get_text())"
   ]
  },
  {
   "cell_type": "code",
   "execution_count": null,
   "metadata": {},
   "outputs": [],
   "source": []
  },
  {
   "cell_type": "code",
   "execution_count": null,
   "metadata": {},
   "outputs": [],
   "source": [
    "\n"
   ]
  }
 ],
 "metadata": {
  "kernelspec": {
   "display_name": "Python 3",
   "language": "python",
   "name": "python3"
  },
  "language_info": {
   "codemirror_mode": {
    "name": "ipython",
    "version": 3
   },
   "file_extension": ".py",
   "mimetype": "text/x-python",
   "name": "python",
   "nbconvert_exporter": "python",
   "pygments_lexer": "ipython3",
   "version": "3.6.5"
  }
 },
 "nbformat": 4,
 "nbformat_minor": 2
}
