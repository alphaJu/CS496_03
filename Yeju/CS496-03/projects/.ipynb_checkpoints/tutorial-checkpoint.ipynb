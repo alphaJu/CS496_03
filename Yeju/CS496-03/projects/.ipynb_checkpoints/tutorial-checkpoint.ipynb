{
 "cells": [
  {
   "cell_type": "code",
   "execution_count": 104,
   "metadata": {},
   "outputs": [],
   "source": [
    "from urllib.request import urlopen\n",
    "import json\n",
    "from bs4 import BeautifulSoup\n",
    "html = urlopen(\"http://tinypic.com/\")\n",
    "soup = BeautifulSoup(html, 'html.parser')\n",
    "nameList = soup.find_all('a', {'class':'thumbnail'})\n",
    "ans = []"
   ]
  },
  {
   "cell_type": "code",
   "execution_count": 105,
   "metadata": {
    "scrolled": true
   },
   "outputs": [],
   "source": [
    "for name in nameList:\n",
    "    company = name['href']\n",
    "    ans.append(\"company:\"+company)"
   ]
  },
  {
   "cell_type": "code",
   "execution_count": 106,
   "metadata": {},
   "outputs": [
    {
     "name": "stdout",
     "output_type": "stream",
     "text": [
      "['company:http://tinypic.com/categories/quotes', 'company:http://tinypic.com/categories/backgrounds', 'company:http://tinypic.com/categories/dance', 'company:http://tinypic.com/categories/art', 'company:http://tinypic.com/categories/retro', 'company:http://tinypic.com/categories/photography']\n"
     ]
    }
   ],
   "source": [
    "print (ans)"
   ]
  },
  {
   "cell_type": "code",
   "execution_count": 58,
   "metadata": {},
   "outputs": [],
   "source": []
  },
  {
   "cell_type": "code",
   "execution_count": null,
   "metadata": {},
   "outputs": [],
   "source": [
    "\n"
   ]
  }
 ],
 "metadata": {
  "kernelspec": {
   "display_name": "Python 3",
   "language": "python",
   "name": "python3"
  },
  "language_info": {
   "codemirror_mode": {
    "name": "ipython",
    "version": 3
   },
   "file_extension": ".py",
   "mimetype": "text/x-python",
   "name": "python",
   "nbconvert_exporter": "python",
   "pygments_lexer": "ipython3",
   "version": "3.6.5"
  }
 },
 "nbformat": 4,
 "nbformat_minor": 2
}
